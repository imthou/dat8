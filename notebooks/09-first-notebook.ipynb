{
 "cells": [
  {
   "cell_type": "markdown",
   "metadata": {},
   "source": [
    "# My First Jupyter Notebook"
   ]
  },
  {
   "cell_type": "code",
   "execution_count": 2,
   "metadata": {
    "collapsed": false
   },
   "outputs": [],
   "source": [
    "import pandas as pd\n",
    "import numpy as np\n",
    "from pandas import DataFrame, Series\n",
    "\n",
    "%matplotlib inline\n",
    "from matplotlib import pyplot as plt"
   ]
  },
  {
   "cell_type": "code",
   "execution_count": 4,
   "metadata": {
    "collapsed": false
   },
   "outputs": [],
   "source": [
    "from pandas.io.data import DataReader\n",
    "from datetime import date\n",
    "from dateutil.relativedelta import relativedelta\n",
    "\n",
    "azo = DataReader(\"AZO\", \"yahoo\", date.today() + relativedelta(months=-3))"
   ]
  },
  {
   "cell_type": "code",
   "execution_count": 58,
   "metadata": {
    "collapsed": false,
    "scrolled": true
   },
   "outputs": [
    {
     "data": {
      "text/html": [
       "<div>\n",
       "<table border=\"1\" class=\"dataframe\">\n",
       "  <thead>\n",
       "    <tr style=\"text-align: right;\">\n",
       "      <th></th>\n",
       "      <th>High</th>\n",
       "      <th>Low</th>\n",
       "      <th>Close</th>\n",
       "    </tr>\n",
       "    <tr>\n",
       "      <th>Date</th>\n",
       "      <th></th>\n",
       "      <th></th>\n",
       "      <th></th>\n",
       "    </tr>\n",
       "  </thead>\n",
       "  <tbody>\n",
       "    <tr>\n",
       "      <th>2015-06-22</th>\n",
       "      <td>684.489990</td>\n",
       "      <td>679.570007</td>\n",
       "      <td>681.500000</td>\n",
       "    </tr>\n",
       "    <tr>\n",
       "      <th>2015-06-23</th>\n",
       "      <td>685.869995</td>\n",
       "      <td>681.700012</td>\n",
       "      <td>685.539978</td>\n",
       "    </tr>\n",
       "    <tr>\n",
       "      <th>2015-06-24</th>\n",
       "      <td>684.409973</td>\n",
       "      <td>678.119995</td>\n",
       "      <td>679.640015</td>\n",
       "    </tr>\n",
       "    <tr>\n",
       "      <th>2015-06-25</th>\n",
       "      <td>684.700012</td>\n",
       "      <td>678.580017</td>\n",
       "      <td>680.309998</td>\n",
       "    </tr>\n",
       "    <tr>\n",
       "      <th>2015-06-26</th>\n",
       "      <td>683.510010</td>\n",
       "      <td>676.299988</td>\n",
       "      <td>677.469971</td>\n",
       "    </tr>\n",
       "  </tbody>\n",
       "</table>\n",
       "</div>"
      ],
      "text/plain": [
       "                  High         Low       Close\n",
       "Date                                          \n",
       "2015-06-22  684.489990  679.570007  681.500000\n",
       "2015-06-23  685.869995  681.700012  685.539978\n",
       "2015-06-24  684.409973  678.119995  679.640015\n",
       "2015-06-25  684.700012  678.580017  680.309998\n",
       "2015-06-26  683.510010  676.299988  677.469971"
      ]
     },
     "execution_count": 58,
     "metadata": {},
     "output_type": "execute_result"
    }
   ],
   "source": [
    "azo['Diff'] = azo['High'] - azo['Low']\n",
    "azo.iloc[[0,1], [0,2]]    # [rows, cols]\n",
    "azo.loc['2015-06-22':'2015-06-24', ['High', 'Low']]\n",
    "azo.ix[0:5, ['High', 'Low', 'Close']]"
   ]
  },
  {
   "cell_type": "code",
   "execution_count": 81,
   "metadata": {
    "collapsed": false
   },
   "outputs": [
    {
     "data": {
      "image/png": "[encoded data removed]",
      "text/plain": [
       "<matplotlib.figure.Figure at 0x10a082828>"
      ]
     },
     "metadata": {},
     "output_type": "display_data"
    }
   ],
   "source": [
    "high = azo['High'].loc['2015-09-01':'2015-09-30']\n",
    "low = azo['Low'].loc['2015-09-01':'2015-09-30']\n",
    "high.plot(kind='line', style='g');\n",
    "low.plot(kind='line', style='b');"
   ]
  },
  {
   "cell_type": "code",
   "execution_count": 6,
   "metadata": {
    "collapsed": false
   },
   "outputs": [],
   "source": [
    "from dateutil.parser import parse\n",
    "\n",
    "ATHLETES_FILE = '../hw/hw2-athletes.csv'\n",
    "\n",
    "# Some dates are of the form '28/02/1986 (KOR)', \n",
    "#   so a custom parser is needed to grab the portion before the first space\n",
    "def parse_date(date_str):\n",
    "    return parse(date_str.split(' ')[0])\n",
    "\n",
    "athletes = pd.read_csv(ATHLETES_FILE, parse_dates=['birth_date'], date_parser=parse_date)"
   ]
  },
  {
   "cell_type": "code",
   "execution_count": 107,
   "metadata": {
    "collapsed": false
   },
   "outputs": [
    {
     "name": "stdout",
     "output_type": "stream",
     "text": [
      "# Males:  5756\n",
      "# Females:  4628\n",
      "# Total:  10384\n"
     ]
    }
   ],
   "source": [
    "sexes = athletes['sex']\n",
    "sexes == 'M'\n",
    "print('# Males: ', sexes[sexes == 'M'].count())\n",
    "print('# Females: ', sexes[sexes == 'F'].count())\n",
    "print('# Total: ', sexes.count())"
   ]
  },
  {
   "cell_type": "code",
   "execution_count": 117,
   "metadata": {
    "collapsed": false
   },
   "outputs": [
    {
     "data": {
      "text/plain": [
       "<matplotlib.axes._subplots.AxesSubplot at 0x10d5a4400>"
      ]
     },
     "execution_count": 117,
     "metadata": {},
     "output_type": "execute_result"
    },
    {
     "data": {
      "image/png": "[encoded data removed]",
      "text/plain": [
       "<matplotlib.figure.Figure at 0x10d5c06a0>"
      ]
     },
     "metadata": {},
     "output_type": "display_data"
    }
   ],
   "source": [
    "males = athletes[athletes['sex'] == 'M']\n",
    "females = athletes[athletes['sex'] == 'F']\n",
    "males['height'].hist(color='b', bins=20)\n",
    "females['height'].hist(color='g', bins=20, alpha=0.5)"
   ]
  },
  {
   "cell_type": "code",
   "execution_count": null,
   "metadata": {
    "collapsed": true
   },
   "outputs": [],
   "source": []
  }
 ],
 "metadata": {
  "kernelspec": {
   "display_name": "Python 3",
   "language": "python",
   "name": "python3"
  },
  "language_info": {
   "codemirror_mode": {
    "name": "ipython",
    "version": 3
   },
   "file_extension": ".py",
   "mimetype": "text/x-python",
   "name": "python",
   "nbconvert_exporter": "python",
   "pygments_lexer": "ipython3",
   "version": "3.4.3"
  }
 },
 "nbformat": 4,
 "nbformat_minor": 0
}
